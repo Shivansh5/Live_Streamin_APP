{
 "cells": [
  {
   "cell_type": "code",
   "execution_count": 54,
   "id": "8a20a423",
   "metadata": {},
   "outputs": [],
   "source": [
    "import cv2"
   ]
  },
  {
   "cell_type": "code",
   "execution_count": 55,
   "id": "ba2aa7f1",
   "metadata": {},
   "outputs": [
    {
     "name": "stdout",
     "output_type": "stream",
     "text": [
      "<VideoCapture 000001C931A3C450>\n"
     ]
    }
   ],
   "source": [
    "# Connect internal camera Or You can say that cv2.VideoCapture(0) is know the \n",
    "# pointer of the camera \n",
    "print(cv2.VideoCapture(0))\n",
    "\n",
    "cap = cv2.VideoCapture(0)"
   ]
  },
  {
   "cell_type": "code",
   "execution_count": 57,
   "id": "2f4c2cf1",
   "metadata": {},
   "outputs": [],
   "source": [
    "while True:\n",
    "    status , photo = cap.read()  # Click the photo\n",
    "    \n",
    "   #cphoto = photo[100:370,240:425]----> Needed to show crop photo\n",
    "    #cphoto = cv2.cvtColor(photo,cv2.COLOR_BGR2HLS)\n",
    "    cv2.imshow(\"Live Stream\",photo)  # Show the photo\n",
    "    \n",
    "    if (cv2.waitKey(10)) == 13:   # wait for 10 mili second after that again go an click the phto till that enter key (13 the code of enter key) is not pressed\n",
    "        break\n",
    "cv2.destroyAllWindows() # Close the windows\n",
    "#cap.release() # Release the camera"
   ]
  },
  {
   "cell_type": "code",
   "execution_count": 58,
   "id": "c1bb7335",
   "metadata": {},
   "outputs": [],
   "source": [
    "cap.release()"
   ]
  },
  {
   "cell_type": "code",
   "execution_count": null,
   "id": "3a1ba43a",
   "metadata": {},
   "outputs": [],
   "source": []
  }
 ],
 "metadata": {
  "kernelspec": {
   "display_name": "Python 3",
   "language": "python",
   "name": "python3"
  },
  "language_info": {
   "codemirror_mode": {
    "name": "ipython",
    "version": 3
   },
   "file_extension": ".py",
   "mimetype": "text/x-python",
   "name": "python",
   "nbconvert_exporter": "python",
   "pygments_lexer": "ipython3",
   "version": "3.7.6"
  }
 },
 "nbformat": 4,
 "nbformat_minor": 5
}
